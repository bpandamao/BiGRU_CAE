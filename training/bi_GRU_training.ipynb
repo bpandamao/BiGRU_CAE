{
 "cells": [
  {
   "cell_type": "markdown",
   "metadata": {},
   "source": [
    "### Aim to training the bi-GRU as decoder\n",
    "#### the right dashed box in the flowchart\n",
    "<img src=\"../model_structure.jpg\" alt=\"model_structure\" width=\"600\" />"
   ]
  },
  {
   "cell_type": "code",
   "execution_count": 12,
   "metadata": {},
   "outputs": [],
   "source": [
    "import sys\n",
    "import os\n",
    "\n",
    "# Add the parent directory to sys.path\n",
    "sys.path.append(os.path.abspath('../models'))"
   ]
  },
  {
   "cell_type": "code",
   "execution_count": 4,
   "metadata": {},
   "outputs": [],
   "source": [
    "import torch\n",
    "import torch.nn as nn\n",
    "import torch.nn.functional as F\n",
    "import torch.optim as optim\n",
    "\n",
    "from torch.autograd import Variable\n",
    "from torch.nn.parameter import Parameter\n",
    "\n",
    "# import math\n",
    "# import argparse\n",
    "from torch.utils.data import Dataset,DataLoader,random_split,TensorDataset\n",
    "import numpy as np\n",
    "import matplotlib.pyplot as plt\n"
   ]
  },
  {
   "cell_type": "markdown",
   "metadata": {},
   "source": [
    "#### The training data can be generated from [training_dcae.ipynb](./training_dcae.ipynb) or directly from here."
   ]
  },
  {
   "cell_type": "code",
   "execution_count": 15,
   "metadata": {},
   "outputs": [
    {
     "data": {
      "text/plain": [
       "1.4177132751742416"
      ]
     },
     "execution_count": 15,
     "metadata": {},
     "output_type": "execute_result"
    }
   ],
   "source": [
    "#########################\n",
    "#data from DCAE\n",
    "##########################\n",
    "from DCAE import Autoencoder\n",
    "from gaps_generation import ge_unsche\n",
    "\n",
    "sig=np.load(\"../sig_toy_signal.npy\")\n",
    "original_data = torch.from_numpy(sig)\n",
    "\n",
    "# Create an instance of the autoencoder\n",
    "autoencoder = torch.load('../models/models_dcae.pth')\n",
    "\n",
    "### Setting the time range\n",
    "tmax =  3*24*60*60                 # Final time\n",
    "\n",
    "fs = 2*1e-3                     # Sampling rate\n",
    "delta_t = 5\n",
    "t = np.arange(0,tmax,delta_t)     # Form time vector from t0 = 0 to t_{n-1} = tmax. Length N [include t = zero]\n",
    "\n",
    "####################################\n",
    "# get data ready for RNN training\n",
    "####################################\n",
    "#data for rnn\n",
    "sigrnn=original_data[::5,:]\n",
    "\n",
    "inputrnn= np.zeros((200,51840))\n",
    "targetrnn=np.zeros((200,51840))\n",
    "for i in range(200):\n",
    "    mask=ge_unsche(t)\n",
    "    snodata0,normaldata0,mean0,std0= autoencoder.signal_preprocess(sigrnn[i].reshape(1,1,-1),mask)\n",
    "    outputs0=autoencoder(snodata0)\n",
    "    inputrnn0=outputs0.detach().numpy()\n",
    "    inputrnn[i]=inputrnn0.reshape(1,-1)\n",
    "    targetrnn0=normaldata0.detach().numpy()\n",
    "    targetrnn[i]=targetrnn0.reshape(1,-1)\n",
    "    \n",
    "\n",
    "np.max(np.abs(targetrnn))\n"
   ]
  },
  {
   "cell_type": "code",
   "execution_count": 16,
   "metadata": {},
   "outputs": [
    {
     "data": {
      "text/plain": [
       "torch.Size([200, 51840])"
      ]
     },
     "execution_count": 16,
     "metadata": {},
     "output_type": "execute_result"
    }
   ],
   "source": [
    "#putdown to -1,1\n",
    "output_normalized_sig=torch.tensor(targetrnn/1.5)\n",
    "normalized_sig=torch.tensor(inputrnn)\n",
    "\n",
    "output_normalized_sig.shape"
   ]
  },
  {
   "cell_type": "code",
   "execution_count": 17,
   "metadata": {},
   "outputs": [],
   "source": [
    "normalized_sig=normalized_sig.reshape((-1,48,1)).float()\n",
    "output_normalized_sig=output_normalized_sig.reshape((-1,48,1)).float()\n",
    "\n",
    "from sklearn.model_selection import train_test_split\n",
    "import random\n",
    "\n",
    "# Split the data into training and testing sets\n",
    "train_indices, test_indices = train_test_split(range(len(normalized_sig)), test_size=0.2, random_state=42)\n",
    "\n",
    "# Convert the sequences to PyTorch tensors\n",
    "train_input_sequences = normalized_sig[train_indices]\n",
    "train_output_sequences = output_normalized_sig[train_indices]\n",
    "# print(train_input_sequences .shape)\n",
    "# print(train_output_sequences .shape)\n",
    "\n",
    "# Create a TensorDataset and DataLoader for training data\n",
    "train_dataset = TensorDataset(train_input_sequences, train_output_sequences)\n",
    "train_loader = DataLoader(train_dataset, batch_size=64, shuffle=True)\n",
    "\n",
    "# Convert the sequences to PyTorch tensors\n",
    "test_input_sequences = normalized_sig[test_indices]\n",
    "test_output_sequences = output_normalized_sig[test_indices]\n",
    "# print(test_input_sequences .shape)\n",
    "# print(test_output_sequences .shape)\n",
    "\n",
    "# Create a TensorDataset and DataLoader for training data\n",
    "test_dataset = TensorDataset(train_input_sequences, train_output_sequences)\n",
    "test_loader = DataLoader(test_dataset, batch_size=64, shuffle=True)"
   ]
  },
  {
   "cell_type": "code",
   "execution_count": 18,
   "metadata": {},
   "outputs": [
    {
     "name": "stdout",
     "output_type": "stream",
     "text": [
      "BidirectionalGRUModel(\n",
      "  (gru): GRU(1, 12, num_layers=2, batch_first=True, bidirectional=True)\n",
      "  (fc2): Tanh()\n",
      "  (fc1): Linear(in_features=24, out_features=1, bias=True)\n",
      ")\n"
     ]
    }
   ],
   "source": [
    "######################\n",
    "#BI_GRU import\n",
    "######################\n",
    "from bi_GRU import BidirectionalGRUModel\n",
    "\n",
    "# Model Initialization\n",
    "input_size = 1\n",
    "hidden_size = 12\n",
    "output_size = 1\n",
    "model = BidirectionalGRUModel(input_size, hidden_size, output_size)\n",
    "\n",
    "# Print the autoencoder architecture\n",
    "print(model)"
   ]
  },
  {
   "cell_type": "code",
   "execution_count": 15,
   "metadata": {},
   "outputs": [
    {
     "name": "stdout",
     "output_type": "stream",
     "text": [
      "Epoch 1/50, Loss: 0.028357649974145548\n",
      "Epoch 1/50, Loss: 0.003105797424602012\n",
      "Epoch 2/50, Loss: 0.0019125643086024663\n",
      "Epoch 2/50, Loss: 0.0013584887097305102\n",
      "Epoch 3/50, Loss: 0.0011841414886509516\n",
      "Epoch 3/50, Loss: 0.0010754102098332993\n",
      "Epoch 4/50, Loss: 0.0009563162513896478\n",
      "Epoch 4/50, Loss: 0.0008056527616335424\n",
      "Epoch 5/50, Loss: 0.0008283417556473675\n",
      "Epoch 5/50, Loss: 0.0007159051134712407\n",
      "Epoch 6/50, Loss: 0.0007390945258925462\n",
      "Epoch 6/50, Loss: 0.0006821393927330737\n",
      "Epoch 7/50, Loss: 0.0006782232645976667\n",
      "Epoch 7/50, Loss: 0.0006182449366261372\n",
      "Epoch 8/50, Loss: 0.0006257905649599033\n",
      "Epoch 8/50, Loss: 0.0005996372883695316\n",
      "Epoch 9/50, Loss: 0.0005918079278112769\n",
      "Epoch 9/50, Loss: 0.0006237906573396348\n",
      "Epoch 10/50, Loss: 0.0005636398646014708\n",
      "Epoch 10/50, Loss: 0.0005171249897210617\n",
      "Epoch 11/50, Loss: 0.0005322936931366308\n",
      "Epoch 11/50, Loss: 0.0006787382459690518\n",
      "Epoch 12/50, Loss: 0.0005170121073347723\n",
      "Epoch 12/50, Loss: 0.00048794998441870253\n",
      "Epoch 13/50, Loss: 0.0004981398366443399\n",
      "Epoch 13/50, Loss: 0.0005591966482353638\n",
      "Epoch 14/50, Loss: 0.000482282793069586\n",
      "Epoch 14/50, Loss: 0.0006180495113518123\n",
      "Epoch 15/50, Loss: 0.0004665044447594684\n",
      "Epoch 15/50, Loss: 0.0004289226716921096\n",
      "Epoch 16/50, Loss: 0.00045624973906712883\n",
      "Epoch 16/50, Loss: 0.0004239582683658227\n",
      "Epoch 17/50, Loss: 0.0004435759462487315\n",
      "Epoch 17/50, Loss: 0.0004245954831464958\n",
      "Epoch 18/50, Loss: 0.0004342672297638341\n",
      "Epoch 18/50, Loss: 0.0004187631098385383\n",
      "Epoch 19/50, Loss: 0.00042533960003681754\n",
      "Epoch 19/50, Loss: 0.00039031412393712717\n",
      "Epoch 20/50, Loss: 0.000414586992588334\n",
      "Epoch 20/50, Loss: 0.0004811718009942625\n",
      "Epoch 21/50, Loss: 0.0004085552799558543\n",
      "Epoch 21/50, Loss: 0.0004609198390702389\n",
      "Epoch 22/50, Loss: 0.0004033542866010167\n",
      "Epoch 22/50, Loss: 0.00038092594159900694\n",
      "Epoch 23/50, Loss: 0.0003973214575294319\n",
      "Epoch 23/50, Loss: 0.00038113661294186455\n",
      "Epoch 24/50, Loss: 0.0003908953613157522\n",
      "Epoch 24/50, Loss: 0.000359554499871727\n",
      "Epoch 25/50, Loss: 0.0003833797369561917\n",
      "Epoch 25/50, Loss: 0.0003782149136532098\n",
      "Epoch 26/50, Loss: 0.000379650792564024\n",
      "Epoch 26/50, Loss: 0.0003896163033183526\n",
      "Epoch 27/50, Loss: 0.0003742629142760523\n",
      "Epoch 27/50, Loss: 0.00035525053021653245\n",
      "Epoch 28/50, Loss: 0.0003713467915939098\n",
      "Epoch 28/50, Loss: 0.0003575909250799601\n",
      "Epoch 29/50, Loss: 0.00036494983394664746\n",
      "Epoch 29/50, Loss: 0.00035716373735340313\n",
      "Epoch 30/50, Loss: 0.00036107184072736546\n",
      "Epoch 30/50, Loss: 0.0003565758588902773\n",
      "Epoch 31/50, Loss: 0.0003566109175961982\n",
      "Epoch 31/50, Loss: 0.00036297433529398405\n",
      "Epoch 32/50, Loss: 0.0003525529814672794\n",
      "Epoch 32/50, Loss: 0.00034905251493910327\n",
      "Epoch 33/50, Loss: 0.0003493844673977475\n",
      "Epoch 33/50, Loss: 0.00034768407881428074\n",
      "Epoch 34/50, Loss: 0.000345879539538011\n",
      "Epoch 34/50, Loss: 0.0003263399889800456\n",
      "Epoch 35/50, Loss: 0.00034400731353175445\n",
      "Epoch 35/50, Loss: 0.00033270958418142984\n",
      "Epoch 36/50, Loss: 0.00034011455108325377\n",
      "Epoch 36/50, Loss: 0.00033042972021374024\n",
      "Epoch 37/50, Loss: 0.00033823125152223466\n",
      "Epoch 37/50, Loss: 0.00033010831796370134\n",
      "Epoch 38/50, Loss: 0.0003372000481747953\n",
      "Epoch 38/50, Loss: 0.0003210926836483715\n",
      "Epoch 39/50, Loss: 0.00033179658394483675\n",
      "Epoch 39/50, Loss: 0.0003458481690958487\n",
      "Epoch 40/50, Loss: 0.0003312079917264378\n",
      "Epoch 40/50, Loss: 0.0003340798554159442\n",
      "Epoch 41/50, Loss: 0.0003284123633811423\n",
      "Epoch 41/50, Loss: 0.0003173292036215706\n",
      "Epoch 42/50, Loss: 0.00032763709960380327\n",
      "Epoch 42/50, Loss: 0.00033439467516641514\n",
      "Epoch 43/50, Loss: 0.0003233673604134108\n",
      "Epoch 43/50, Loss: 0.0003276591392285708\n",
      "Epoch 44/50, Loss: 0.0003221530352796738\n",
      "Epoch 44/50, Loss: 0.0003138461461505223\n",
      "Epoch 45/50, Loss: 0.000319909944435629\n",
      "Epoch 45/50, Loss: 0.0003097169899222165\n",
      "Epoch 46/50, Loss: 0.00031852036223022474\n",
      "Epoch 46/50, Loss: 0.00030249617329833133\n",
      "Epoch 47/50, Loss: 0.0003176034083244977\n",
      "Epoch 47/50, Loss: 0.0002954001490865334\n",
      "Epoch 48/50, Loss: 0.0003164598603379326\n",
      "Epoch 48/50, Loss: 0.00031549216586022845\n",
      "Epoch 49/50, Loss: 0.00031424533892142657\n",
      "Epoch 49/50, Loss: 0.00030245767773185095\n",
      "Epoch 50/50, Loss: 0.00031228982529245074\n",
      "Epoch 50/50, Loss: 0.00031471987578293514\n",
      "Training finished!\n"
     ]
    }
   ],
   "source": [
    "torch.set_num_threads(8)\n",
    "\n",
    "################\n",
    "#Model Training\n",
    "################\n",
    "criterion = nn.MSELoss()\n",
    "optimizer = optim.Adam(model.parameters(), lr=0.001)\n",
    "\n",
    "num_epochs = 50\n",
    "test_loss=np.zeros(50)\n",
    "for epoch in range(num_epochs):\n",
    "    running_loss = 0.0\n",
    "    runningtest_loss = 0.0\n",
    "    for inputs, targets in train_loader:\n",
    "        optimizer.zero_grad()\n",
    "        outputs = model(inputs)\n",
    "        loss = criterion(outputs, targets)\n",
    "        loss.backward()\n",
    "        optimizer.step()\n",
    "        running_loss += loss.item()\n",
    "        \n",
    "    print(f\"Epoch {epoch+1}/{num_epochs}, Loss: {running_loss / len(train_loader)}\")\n",
    "\n",
    "    # Model Evaluation\n",
    "    with torch.no_grad():\n",
    "        for inputs, targets in test_loader:\n",
    "            outputs = model(inputs)\n",
    "            # Calculate evaluation metrics\n",
    "            loss = criterion(outputs, targets)\n",
    "            runningtest_loss += loss.item()\n",
    "        print(f\"Epoch {epoch+1}/{num_epochs}, Loss: {runningtest_loss / len(test_loader)}\")\n",
    "        test_loss[epoch]=runningtest_loss / len(test_loader)\n",
    "    \n",
    "print(\"Training finished!\")\n"
   ]
  },
  {
   "cell_type": "code",
   "execution_count": 16,
   "metadata": {},
   "outputs": [
    {
     "data": {
      "text/plain": [
       "[<matplotlib.lines.Line2D at 0x7f6f24153130>]"
      ]
     },
     "execution_count": 16,
     "metadata": {},
     "output_type": "execute_result"
    },
    {
     "data": {
      "image/png": "[encoded data removed]",
      "text/plain": [
       "<Figure size 640x480 with 1 Axes>"
      ]
     },
     "metadata": {},
     "output_type": "display_data"
    }
   ],
   "source": [
    "plt.plot(test_loss)"
   ]
  },
  {
   "cell_type": "code",
   "execution_count": 17,
   "metadata": {},
   "outputs": [
    {
     "name": "stdout",
     "output_type": "stream",
     "text": [
      "save model\n"
     ]
    }
   ],
   "source": [
    "torch.save(model, \"../models/models_ae_gru.pth\")\n",
    "print(\"save model\")"
   ]
  },
  {
   "cell_type": "code",
   "execution_count": null,
   "metadata": {},
   "outputs": [],
   "source": []
  }
 ],
 "metadata": {
  "kernelspec": {
   "display_name": "pytorch_env",
   "language": "python",
   "name": "pytorch_env"
  },
  "language_info": {
   "codemirror_mode": {
    "name": "ipython",
    "version": 3
   },
   "file_extension": ".py",
   "mimetype": "text/x-python",
   "name": "python",
   "nbconvert_exporter": "python",
   "pygments_lexer": "ipython3",
   "version": "3.10.13"
  }
 },
 "nbformat": 4,
 "nbformat_minor": 2
}
